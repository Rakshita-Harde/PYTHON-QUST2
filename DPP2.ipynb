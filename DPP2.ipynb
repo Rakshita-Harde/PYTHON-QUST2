{
 "cells": [
  {
   "cell_type": "code",
   "execution_count": 7,
   "id": "777cc465-e167-4818-82ce-dd9947fe1c2c",
   "metadata": {},
   "outputs": [
    {
     "name": "stdout",
     "output_type": "stream",
     "text": [
      "1\n",
      "3\n",
      "45\n",
      "7\n",
      "89\n",
      "9\n",
      "Total num of odds are: 6\n"
     ]
    }
   ],
   "source": [
    "#1.Write a function that will count how many odd numbers is present in a given list of integers. [10 min]\n",
    "\n",
    "a = [ 10, 1,2,3,45,6,7,89,9]\n",
    "count = 0\n",
    "\n",
    "for num in a:\n",
    " if num % 2 != 0:\n",
    "     print(num)\n",
    "     count += 1\n",
    "     \n",
    "print(\"Total num of odds are:\",count)"
   ]
  },
  {
   "cell_type": "code",
   "execution_count": 11,
   "id": "88a43d71-4e50-49ac-bb4e-e14799a633ad",
   "metadata": {},
   "outputs": [
    {
     "name": "stdout",
     "output_type": "stream",
     "text": [
      "[1, 8, 27, 64, 125, 216, 343, 512]\n"
     ]
    }
   ],
   "source": [
    "#2.Write a lambda expression that will cube all the numbers in the list below num = [1,2,3,4,5,6,7,8][5 min]\n",
    "\n",
    "cube = list(map(lambda x: x**3 ,[1,2,3,4,5,6,7,8]))\n",
    "print(cube)"
   ]
  },
  {
   "cell_type": "code",
   "execution_count": 15,
   "id": "da084a94-0733-43ad-b096-6b4473d567bf",
   "metadata": {},
   "outputs": [
    {
     "name": "stdout",
     "output_type": "stream",
     "text": [
      "multiplication of all  120\n",
      "multiplication of all  2184\n"
     ]
    }
   ],
   "source": [
    "#3.Write a function that will take in an unknown number of arguments and multiply all of them together and run the function for these 2 sets of numbers:\n",
    "#1,2,3,4,5\n",
    "#12,13,14\n",
    "\n",
    "def mul(*args):\n",
    "    result = 1\n",
    "    for num in args:\n",
    "        result = result * num\n",
    "    return result\n",
    "\n",
    "print(\"multiplication of all \", mul(1,2,3,4,5))\n",
    "\n",
    "print(\"multiplication of all \", mul(12,13,14))"
   ]
  },
  {
   "cell_type": "code",
   "execution_count": 27,
   "id": "65398ea3-b22c-463d-9253-448e32a545db",
   "metadata": {},
   "outputs": [
    {
     "name": "stdout",
     "output_type": "stream",
     "text": [
      "Addition: 15\n",
      "mul: 50\n",
      "sub: 5\n"
     ]
    }
   ],
   "source": [
    "#Write a function apply_operation(func, x, y) that takes a function func and two numbers x and y as arguments, \n",
    "#and returns the result of calling func(x, y). \n",
    "#Demonstrate its use with different functions (e.g., addition, subtraction).\n",
    "\n",
    "def apply_operation(fun,x,y):\n",
    " return fun(x,y)\n",
    "\n",
    "def add(x,y):\n",
    "  return x+y\n",
    "print(\"Addition:\", apply_operation(add, 10, 5))\n",
    "\n",
    "\n",
    "def add(x,y):\n",
    "  return x*y\n",
    "print(\"mul:\", apply_operation(add, 10, 5))\n",
    "\n",
    "def add(x,y):\n",
    "  return x-y\n",
    "print(\"sub:\", apply_operation(add, 10, 5))"
   ]
  },
  {
   "cell_type": "code",
   "execution_count": null,
   "id": "6a2ca26e-4e02-470a-ac94-cc5ef01b93f3",
   "metadata": {},
   "outputs": [],
   "source": [
    "#5.Write a program to create a function show_employee() with the following specifications:\n",
    "#It should accept the employee’s name and salary.\n",
    "#It should display both the name and salary.\n",
    "#If the salary is not provided in the function call, it should default to 9000.\n",
    "\n",
    "def empl(name , salary = 9000):\n",
    "    print(\"employee name\" , name)\n",
    "    print(\"employee salary\" , salary)\n",
    "\n"
   ]
  }
 ],
 "metadata": {
  "kernelspec": {
   "display_name": "Python [conda env:base] *",
   "language": "python",
   "name": "conda-base-py"
  },
  "language_info": {
   "codemirror_mode": {
    "name": "ipython",
    "version": 3
   },
   "file_extension": ".py",
   "mimetype": "text/x-python",
   "name": "python",
   "nbconvert_exporter": "python",
   "pygments_lexer": "ipython3",
   "version": "3.12.7"
  }
 },
 "nbformat": 4,
 "nbformat_minor": 5
}
